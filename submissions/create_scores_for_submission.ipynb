{
 "cells": [
  {
   "cell_type": "code",
   "execution_count": null,
   "metadata": {
    "collapsed": true,
    "pycharm": {
     "name": "#%%\n"
    }
   },
   "outputs": [],
   "source": [
    "import numpy as np\n",
    "import pandas as pd\n",
    "\n",
    "# n_models = min(\n",
    "#     [max([int(f.split('_')[-1].split('.')[0]) for f in glob(f'*{m_name}*.csv')]) for m_name in model_names])\n",
    "n_models = 100"
   ]
  },
  {
   "cell_type": "code",
   "execution_count": null,
   "outputs": [],
   "source": [
    "# first submission of only Wechsel models on validation data\n",
    "df_predicted_scores_wechsel_valid = pd.read_csv(f'predictions_gpt2_xl_wechsel_german_valid_{n_models}.csv', index_col=0)\n",
    "\n",
    "df_predicted_scores_wechsel_valid[df_predicted_scores_wechsel_valid.select_dtypes(include=[np.number]) < 1] = np.nan\n",
    "\n",
    "df_predicted_scores_wechsel_valid['mean_score'] = df_predicted_scores_wechsel_valid[\n",
    "    df_predicted_scores_wechsel_valid.columns[2:]].mean(axis=1)\n",
    "# setting the nan values to the mean is synonymous to removing the nan values\n",
    "df_predicted_scores_wechsel_valid.fillna(df_predicted_scores_wechsel_valid['mean_score'], inplace=True)\n",
    "df_predicted_scores_wechsel_valid['std_score'] = df_predicted_scores_wechsel_valid[\n",
    "    df_predicted_scores_wechsel_valid.columns[2:]].std(axis=1)"
   ],
   "metadata": {
    "collapsed": false,
    "pycharm": {
     "name": "#%%\n"
    }
   }
  },
  {
   "cell_type": "code",
   "execution_count": null,
   "outputs": [],
   "source": [
    "# second submission of Wechsel and Gbert models on validation data\n",
    "df_predicted_scores_valid = pd.read_csv(f'predictions_gpt2_xl_wechsel_german_valid_{n_models}.csv', index_col=0)\n",
    "df_predicted_scores_valid = df_predicted_scores_valid.merge(\n",
    "    pd.read_csv(f'predictions_gbert_valid_{n_models}.csv', index_col=0).drop(columns=['Sentence']), on='ID')\n",
    "\n",
    "df_predicted_scores_valid[df_predicted_scores_valid.select_dtypes(include=[np.number]) < 1] = np.nan\n",
    "\n",
    "df_predicted_scores_valid['mean_score'] = df_predicted_scores_valid[df_predicted_scores_valid.columns[2:]].mean(axis=1)\n",
    "# setting the nan values to the mean is synonymous to removing the nan values\n",
    "df_predicted_scores_valid.fillna(df_predicted_scores_valid['mean_score'], inplace=True)\n",
    "df_predicted_scores_valid['std_score'] = df_predicted_scores_valid[df_predicted_scores_valid.columns[2:]].std(axis=1)"
   ],
   "metadata": {
    "collapsed": false,
    "pycharm": {
     "name": "#%%\n"
    }
   }
  },
  {
   "cell_type": "code",
   "execution_count": null,
   "outputs": [],
   "source": [
    "# first submission of only Wechsel models on test data\n",
    "df_predicted_scores_wechsel_test = pd.read_csv(f'predictions_gpt2_xl_wechsel_german_test_{n_models}.csv', index_col=0)\n",
    "\n",
    "df_predicted_scores_wechsel_test[df_predicted_scores_wechsel_test.select_dtypes(include=[np.number]) < 1] = np.nan\n",
    "\n",
    "df_predicted_scores_wechsel_test['mean_score'] = df_predicted_scores_wechsel_test[\n",
    "    df_predicted_scores_wechsel_test.columns[2:]].mean(axis=1)\n",
    "# setting the nan values to the mean is synonymous to removing the nan values\n",
    "df_predicted_scores_wechsel_test.fillna(df_predicted_scores_wechsel_test['mean_score'], inplace=True)\n",
    "df_predicted_scores_wechsel_test['std_score'] = df_predicted_scores_wechsel_test[\n",
    "    df_predicted_scores_wechsel_test.columns[2:]].std(axis=1)"
   ],
   "metadata": {
    "collapsed": false,
    "pycharm": {
     "name": "#%%\n"
    }
   }
  },
  {
   "cell_type": "code",
   "execution_count": null,
   "outputs": [],
   "source": [
    "# second submission of Wechsel and Gbert models on test data\n",
    "df_predicted_scores_test = pd.read_csv(f'predictions_gpt2_xl_wechsel_german_test_{n_models}.csv', index_col=0)\n",
    "df_predicted_scores_test = df_predicted_scores_test.merge(\n",
    "    pd.read_csv(f'predictions_gbert_test_{n_models}.csv', index_col=0).drop(columns=['Sentence']), on='ID')\n",
    "\n",
    "df_predicted_scores_test[df_predicted_scores_test.select_dtypes(include=[np.number]) < 1] = np.nan\n",
    "\n",
    "df_predicted_scores_test['mean_score'] = df_predicted_scores_test[df_predicted_scores_test.columns[2:]].mean(axis=1)\n",
    "# setting the nan values to the mean is synonymous to removing the nan values\n",
    "df_predicted_scores_test.fillna(df_predicted_scores_test['mean_score'], inplace=True)\n",
    "df_predicted_scores_test['std_score'] = df_predicted_scores_test[df_predicted_scores_test.columns[2:]].std(axis=1)"
   ],
   "metadata": {
    "collapsed": false,
    "pycharm": {
     "name": "#%%\n"
    }
   }
  },
  {
   "cell_type": "code",
   "execution_count": null,
   "outputs": [],
   "source": [
    "# create submission files\n",
    "df_predicted_scores_wechsel_valid[['ID', 'mean_score']].rename(columns={'mean_score': 'MOS'}).sort_values('ID').to_csv(\n",
    "    '../submission_1_valid.csv', index=False)\n",
    "df_predicted_scores_wechsel_test[['ID', 'mean_score']].rename(columns={'mean_score': 'MOS'}).sort_values('ID').to_csv(\n",
    "    '../submission_1_test.csv', index=False)\n",
    "\n",
    "df_predicted_scores_valid[['ID', 'mean_score']].rename(columns={'mean_score': 'MOS'}).sort_values('ID').to_csv(\n",
    "    '../submission_2_valid.csv', index=False)\n",
    "df_predicted_scores_test[['ID', 'mean_score']].rename(columns={'mean_score': 'MOS'}).sort_values('ID').to_csv(\n",
    "    '../submission_2_test.csv', index=False)"
   ],
   "metadata": {
    "collapsed": false,
    "pycharm": {
     "name": "#%%\n"
    }
   }
  }
 ],
 "metadata": {
  "kernelspec": {
   "display_name": "Python 3",
   "language": "python",
   "name": "python3"
  },
  "language_info": {
   "codemirror_mode": {
    "name": "ipython",
    "version": 2
   },
   "file_extension": ".py",
   "mimetype": "text/x-python",
   "name": "python",
   "nbconvert_exporter": "python",
   "pygments_lexer": "ipython2",
   "version": "2.7.6"
  }
 },
 "nbformat": 4,
 "nbformat_minor": 0
}
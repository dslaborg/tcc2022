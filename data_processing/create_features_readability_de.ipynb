{
 "cells": [
  {
   "cell_type": "code",
   "execution_count": null,
   "outputs": [],
   "source": [
    "import pandas as pd\n",
    "import numpy as np\n",
    "\n",
    "import readability\n",
    "import syntok.segmenter as segmenter\n",
    "\n",
    "dataset = 'training'\n",
    "# dataset = 'valid'\n",
    "# dataset = 'test'\n",
    "CSV_URL = f'../data/{dataset}_set.csv'"
   ],
   "metadata": {
    "collapsed": false,
    "pycharm": {
     "name": "#%%\n"
    }
   }
  },
  {
   "cell_type": "code",
   "execution_count": null,
   "outputs": [],
   "source": [
    "df = pd.read_csv(CSV_URL)\n",
    "df.drop_duplicates(inplace=True)\n",
    "df = df.sample(frac=1, random_state=9).reset_index(drop=True)\n",
    "df_reduced = pd.DataFrame(df[['ID', 'Sentence DE']])"
   ],
   "metadata": {
    "collapsed": false,
    "pycharm": {
     "name": "#%%\n"
    }
   }
  },
  {
   "cell_type": "code",
   "execution_count": null,
   "metadata": {
    "collapsed": true,
    "pycharm": {
     "name": "#%%\n"
    }
   },
   "outputs": [],
   "source": [
    "def get_features(text):\n",
    "    tokenized = '\\n\\n'.join(\n",
    "        '\\n'.join(' '.join(token.value for token in sentence)\n",
    "                  for sentence in paragraph)\n",
    "        for paragraph in segmenter.analyze(text))\n",
    "    return readability.getmeasures(tokenized, lang='de', merge=True)\n",
    "\n",
    "\n",
    "features = df['Sentence DE'].apply(get_features)"
   ]
  },
  {
   "cell_type": "code",
   "execution_count": null,
   "outputs": [],
   "source": [
    "feature_names = []\n",
    "for idx, row in features.items():\n",
    "    for k, v in row.items():\n",
    "        if k not in feature_names:\n",
    "            feature_names.append(k)\n",
    "features_dict = {name: np.full(len(df), np.nan) for name in feature_names}\n",
    "for idx, row in features.items():\n",
    "    for k, v in row.items():\n",
    "        features_dict[k][idx] = v\n",
    "\n",
    "df_features = pd.DataFrame.from_dict(features_dict)\n",
    "df_features = df_reduced.join(df_features)"
   ],
   "metadata": {
    "collapsed": false,
    "pycharm": {
     "name": "#%%\n"
    }
   }
  },
  {
   "cell_type": "code",
   "execution_count": null,
   "outputs": [],
   "source": [
    "df_features.to_csv(f'../data/features/features_{dataset}_readability_de.csv', index=False)"
   ],
   "metadata": {
    "collapsed": false,
    "pycharm": {
     "name": "#%%\n"
    }
   }
  }
 ],
 "metadata": {
  "kernelspec": {
   "display_name": "Python 3",
   "language": "python",
   "name": "python3"
  },
  "language_info": {
   "codemirror_mode": {
    "name": "ipython",
    "version": 2
   },
   "file_extension": ".py",
   "mimetype": "text/x-python",
   "name": "python",
   "nbconvert_exporter": "python",
   "pygments_lexer": "ipython2",
   "version": "2.7.6"
  }
 },
 "nbformat": 4,
 "nbformat_minor": 0
}